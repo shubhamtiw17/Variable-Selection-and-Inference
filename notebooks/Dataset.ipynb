{
 "cells": [
  {
   "cell_type": "code",
   "execution_count": null,
   "id": "8fdbf2ac-0d66-443d-a123-17144b38e604",
   "metadata": {},
   "outputs": [],
   "source": [
    "import numpy as np\n",
    "import pandas as pd"
   ]
  },
  {
   "cell_type": "code",
   "execution_count": null,
   "id": "b4bf9ce1-51f7-4698-ae85-1ce6c8f41b5d",
   "metadata": {},
   "outputs": [],
   "source": [
    "# Number of samples\n",
    "n_samples = 1000"
   ]
  },
  {
   "cell_type": "code",
   "execution_count": null,
   "id": "8e61f77d-c60c-4c7b-bb52-7a9209bd262a",
   "metadata": {},
   "outputs": [],
   "source": [
    "# Generating random values for x1, x2, x3, x4, x5\n",
    "np.random.seed(42)  # For reproducibility\n",
    "x1 = np.random.normal(0, 1, n_samples)\n",
    "x2 = np.random.normal(0, 1, n_samples)\n",
    "x3 = np.random.normal(0, 1, n_samples)\n",
    "x4 = np.random.normal(0, 1, n_samples)\n",
    "x5 = np.random.normal(0, 1, n_samples)\n",
    "\n",
    "# Generating z1, z2, z3, z4 as transformations of x variables\n",
    "z1 = 0.5 * x1 + np.random.normal(0, 0.1, n_samples)\n",
    "z2 = 0.3 * x2 + np.random.normal(0, 0.1, n_samples)\n",
    "z3 = 0.7 * x3 + np.random.normal(0, 0.1, n_samples)\n",
    "z4 = 0.4 * x4 + np.random.normal(0, 0.1, n_samples)"
   ]
  },
  {
   "cell_type": "code",
   "execution_count": null,
   "id": "fe6ff396-a0e1-4950-940f-891181a82603",
   "metadata": {},
   "outputs": [],
   "source": [
    "# Calculating y using the equation\n",
    "y = x1 + 2 * x2 + 3 * x3 + 0.5 * x4 - 0.25 * x5"
   ]
  },
  {
   "cell_type": "code",
   "execution_count": null,
   "id": "3f3957ae-01b3-4d6f-9b44-45c69f234ac5",
   "metadata": {},
   "outputs": [],
   "source": [
    "# Creating the dataset\n",
    "dataset = pd.DataFrame({\n",
    "    'x1': x1,\n",
    "    'x2': x2,\n",
    "    'x3': x3,\n",
    "    'x4': x4,\n",
    "    'x5': x5,\n",
    "    'z1': z1,\n",
    "    'z2': z2,\n",
    "    'z3': z3,\n",
    "    'z4': z4,\n",
    "    'y': y\n",
    "})"
   ]
  },
  {
   "cell_type": "code",
   "execution_count": null,
   "id": "d184ee3e-4695-4eb5-82a6-1e82f57a7a69",
   "metadata": {},
   "outputs": [],
   "source": [
    "# Saving the dataset to a CSV file\n",
    "dataset.to_csv('line_dataset.csv', index=False)\n",
    "\n",
    "print(\"Dataset created and saved as 'generated_dataset.csv'.\")"
   ]
  }
 ],
 "metadata": {
  "kernelspec": {
   "display_name": "Python 3 (ipykernel)",
   "language": "python",
   "name": "python3"
  },
  "language_info": {
   "codemirror_mode": {
    "name": "ipython",
    "version": 3
   },
   "file_extension": ".py",
   "mimetype": "text/x-python",
   "name": "python",
   "nbconvert_exporter": "python",
   "pygments_lexer": "ipython3",
   "version": "3.12.4"
  }
 },
 "nbformat": 4,
 "nbformat_minor": 5
}
